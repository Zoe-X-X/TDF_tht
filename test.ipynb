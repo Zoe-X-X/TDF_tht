{
 "cells": [
  {
   "cell_type": "code",
   "execution_count": 16,
   "metadata": {},
   "outputs": [],
   "source": [
    "import boto3"
   ]
  },
  {
   "cell_type": "code",
   "execution_count": 17,
   "metadata": {},
   "outputs": [],
   "source": [
    "s3 = boto3.client('s3')"
   ]
  },
  {
   "cell_type": "code",
   "execution_count": 18,
   "metadata": {},
   "outputs": [
    {
     "name": "stdout",
     "output_type": "stream",
     "text": [
      "The bucket (tdf-tht) exists, please proceeding further work.\n"
     ]
    }
   ],
   "source": [
    "if 'tdf-tht' not in [n['Name'] for n in s3.list_buckets()['Buckets']]:\n",
    "    s3.create_bucket(\n",
    "                ACL='public-read',\n",
    "                Bucket='tdf-tht',\n",
    "                CreateBucketConfiguration={'LocationConstraint': 'ap-southeast-2'}\n",
    "            )\n",
    "    print('The new bucket (tdf-tht) has been created.')\n",
    "else :\n",
    "    print('The bucket (tdf-tht) exists, please proceeding further work.')"
   ]
  },
  {
   "cell_type": "code",
   "execution_count": 19,
   "metadata": {},
   "outputs": [],
   "source": [
    "try:\n",
    "    s3.get_object(Bucket='tdf-tht', Key='Staging/weatherDataHourly.csv')\n",
    "except :\n",
    "    head = 'weather,temp,temp_min,temp_max,pressure,humidity,visibility,datetime,sunrise,sunset'\n",
    "    s3.put_object(Body=head, Bucket='tdf-tht', Key='Staging/weatherDataHourly.csv')"
   ]
  },
  {
   "cell_type": "code",
   "execution_count": 21,
   "metadata": {},
   "outputs": [
    {
     "data": {
      "text/plain": [
       "{'ResponseMetadata': {'RequestId': 'TV8YECG253Q86EYS',\n",
       "  'HostId': 'qpw2skqrzcOx6pZX+3rFuKV/4dRi+uVTWmf1ex4QyYPf9ibdfG5MsFDv9GuJepL7RDNCNwo+P7E=',\n",
       "  'HTTPStatusCode': 200,\n",
       "  'HTTPHeaders': {'x-amz-id-2': 'qpw2skqrzcOx6pZX+3rFuKV/4dRi+uVTWmf1ex4QyYPf9ibdfG5MsFDv9GuJepL7RDNCNwo+P7E=',\n",
       "   'x-amz-request-id': 'TV8YECG253Q86EYS',\n",
       "   'date': 'Mon, 20 Dec 2021 02:33:19 GMT',\n",
       "   'last-modified': 'Mon, 20 Dec 2021 02:07:06 GMT',\n",
       "   'etag': '\"ee08d298d08f53ad68a7eeba9d8f9dd2\"',\n",
       "   'accept-ranges': 'bytes',\n",
       "   'content-type': 'binary/octet-stream',\n",
       "   'server': 'AmazonS3',\n",
       "   'content-length': '183'},\n",
       "  'RetryAttempts': 0},\n",
       " 'AcceptRanges': 'bytes',\n",
       " 'LastModified': datetime.datetime(2021, 12, 20, 2, 7, 6, tzinfo=tzutc()),\n",
       " 'ContentLength': 183,\n",
       " 'ETag': '\"ee08d298d08f53ad68a7eeba9d8f9dd2\"',\n",
       " 'ContentType': 'binary/octet-stream',\n",
       " 'Metadata': {},\n",
       " 'Body': <botocore.response.StreamingBody at 0x7f8e7196dcd0>}"
      ]
     },
     "execution_count": 21,
     "metadata": {},
     "output_type": "execute_result"
    }
   ],
   "source": [
    "s3.get_object(Bucket='tdf-tht', Key='Staging/weatherDataHourly.csv')"
   ]
  },
  {
   "cell_type": "code",
   "execution_count": 25,
   "metadata": {},
   "outputs": [
    {
     "name": "stdout",
     "output_type": "stream",
     "text": [
      "{'coord': {'lon': 151.2073, 'lat': -33.8679}, 'weather': [{'id': 802, 'main': 'Clouds', 'description': 'scattered clouds', 'icon': '03d'}], 'base': 'stations', 'main': {'temp': 28.4, 'feels_like': 31.31, 'temp_min': 25.76, 'temp_max': 32.01, 'pressure': 1009, 'humidity': 69}, 'visibility': 10000, 'wind': {'speed': 1.34, 'deg': 127, 'gust': 3.13}, 'clouds': {'all': 40}, 'dt': 1639967667, 'sys': {'type': 2, 'id': 2018875, 'country': 'AU', 'sunrise': 1639939224, 'sunset': 1639991087}, 'timezone': 39600, 'id': 2147714, 'name': 'Sydney', 'cod': 200}\n"
     ]
    }
   ],
   "source": [
    "import requests\n",
    "cityName = 'Sydney'\n",
    "APIKey = \n",
    "response = requests.get(f\"http://api.openweathermap.org/data/2.5/weather?q={cityName}&units=metric&appid={APIKey}\").json()\n",
    "print(response)"
   ]
  },
  {
   "cell_type": "code",
   "execution_count": 26,
   "metadata": {},
   "outputs": [
    {
     "data": {
      "text/plain": [
       "{'weather': 'Clouds',\n",
       " 'temp': 28.4,\n",
       " 'temp_min': 25.76,\n",
       " 'temp_max': 32.01,\n",
       " 'pressure': 1009,\n",
       " 'humidity': 69,\n",
       " 'visibility': 10000,\n",
       " 'datetime': datetime.datetime(2021, 12, 20, 13, 34, 27),\n",
       " 'sunrise': datetime.datetime(2021, 12, 20, 5, 40, 24),\n",
       " 'sunset': datetime.datetime(2021, 12, 20, 20, 4, 47)}"
      ]
     },
     "execution_count": 26,
     "metadata": {},
     "output_type": "execute_result"
    }
   ],
   "source": [
    "{'weather':response['weather'][0]['main'], \n",
    "           'temp':response['main']['temp'], \n",
    "           'temp_min':response['main']['temp_min'], \n",
    "           'temp_max':response['main']['temp_max'],\n",
    "           'pressure':response['main']['pressure'], \n",
    "           'humidity':response['main']['humidity'],\n",
    "           'visibility':response['visibility'],\n",
    "           'datetime':datetime.fromtimestamp(response['dt']),\n",
    "           'sunrise':datetime.fromtimestamp(response['sys']['sunrise']), \n",
    "           'sunset':datetime.fromtimestamp(response['sys']['sunset'])}"
   ]
  },
  {
   "cell_type": "code",
   "execution_count": 28,
   "metadata": {},
   "outputs": [],
   "source": [
    "import pandas as pd\n",
    "from datetime import datetime\n",
    "import os\n",
    "s3.download_file('tdf-tht', 'Staging/weatherDataHourly.csv','file_name')\n",
    "df = pd.read_csv('file_name')\n",
    "new_row = {'weather':response['weather'][0]['main'], \n",
    "           'temp':response['main']['temp'], \n",
    "           'temp_min':response['main']['temp_min'], \n",
    "           'temp_max':response['main']['temp_max'],\n",
    "           'pressure':response['main']['pressure'], \n",
    "           'humidity':response['main']['humidity'],\n",
    "           'visibility':response['visibility'],\n",
    "           'datetime':datetime.fromtimestamp(response['dt']),\n",
    "           'sunrise':datetime.fromtimestamp(response['sys']['sunrise']), \n",
    "           'sunset':datetime.fromtimestamp(response['sys']['sunset'])}\n",
    "df = df.append(new_row, ignore_index=True)\n",
    "bytes_to_write = df.to_csv(None, index=False).encode()\n",
    "s3.put_object(Body=bytes_to_write, Bucket='tdf-tht', Key='Staging/weatherDataHourly.csv')\n",
    "os.remove('file_name')"
   ]
  },
  {
   "cell_type": "code",
   "execution_count": 29,
   "metadata": {},
   "outputs": [
    {
     "data": {
      "text/html": [
       "<div>\n",
       "<style scoped>\n",
       "    .dataframe tbody tr th:only-of-type {\n",
       "        vertical-align: middle;\n",
       "    }\n",
       "\n",
       "    .dataframe tbody tr th {\n",
       "        vertical-align: top;\n",
       "    }\n",
       "\n",
       "    .dataframe thead th {\n",
       "        text-align: right;\n",
       "    }\n",
       "</style>\n",
       "<table border=\"1\" class=\"dataframe\">\n",
       "  <thead>\n",
       "    <tr style=\"text-align: right;\">\n",
       "      <th></th>\n",
       "      <th>weather</th>\n",
       "      <th>temp</th>\n",
       "      <th>temp_min</th>\n",
       "      <th>temp_max</th>\n",
       "      <th>pressure</th>\n",
       "      <th>humidity</th>\n",
       "      <th>visibility</th>\n",
       "      <th>datetime</th>\n",
       "      <th>sunrise</th>\n",
       "      <th>sunset</th>\n",
       "    </tr>\n",
       "  </thead>\n",
       "  <tbody>\n",
       "    <tr>\n",
       "      <th>0</th>\n",
       "      <td>Clouds</td>\n",
       "      <td>28.18</td>\n",
       "      <td>25.76</td>\n",
       "      <td>31.14</td>\n",
       "      <td>1009</td>\n",
       "      <td>69</td>\n",
       "      <td>10000</td>\n",
       "      <td>2021-12-20 12:46:27</td>\n",
       "      <td>2021-12-20 05:40:24</td>\n",
       "      <td>2021-12-20 20:04:47</td>\n",
       "    </tr>\n",
       "    <tr>\n",
       "      <th>1</th>\n",
       "      <td>Clouds</td>\n",
       "      <td>28.40</td>\n",
       "      <td>25.76</td>\n",
       "      <td>32.01</td>\n",
       "      <td>1009</td>\n",
       "      <td>69</td>\n",
       "      <td>10000</td>\n",
       "      <td>2021-12-20 13:34:27</td>\n",
       "      <td>2021-12-20 05:40:24</td>\n",
       "      <td>2021-12-20 20:04:47</td>\n",
       "    </tr>\n",
       "  </tbody>\n",
       "</table>\n",
       "</div>"
      ],
      "text/plain": [
       "  weather   temp  temp_min  temp_max  pressure  humidity  visibility  \\\n",
       "0  Clouds  28.18     25.76     31.14      1009        69       10000   \n",
       "1  Clouds  28.40     25.76     32.01      1009        69       10000   \n",
       "\n",
       "              datetime              sunrise               sunset  \n",
       "0  2021-12-20 12:46:27  2021-12-20 05:40:24  2021-12-20 20:04:47  \n",
       "1  2021-12-20 13:34:27  2021-12-20 05:40:24  2021-12-20 20:04:47  "
      ]
     },
     "execution_count": 29,
     "metadata": {},
     "output_type": "execute_result"
    }
   ],
   "source": [
    "s3.download_file('tdf-tht', 'Staging/weatherDataHourly.csv','file_name')\n",
    "df = pd.read_csv('file_name')\n",
    "df"
   ]
  },
  {
   "cell_type": "code",
   "execution_count": null,
   "metadata": {},
   "outputs": [],
   "source": []
  }
 ],
 "metadata": {
  "language_info": {
   "name": "python"
  },
  "orig_nbformat": 4
 },
 "nbformat": 4,
 "nbformat_minor": 2
}
