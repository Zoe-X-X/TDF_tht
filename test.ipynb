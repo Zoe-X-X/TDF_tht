{
 "cells": [
  {
   "cell_type": "code",
   "execution_count": 10,
   "metadata": {},
   "outputs": [],
   "source": [
    "import boto3\n",
    "import pandas as pd\n",
    "from datetime import datetime"
   ]
  },
  {
   "cell_type": "code",
   "execution_count": 2,
   "metadata": {},
   "outputs": [],
   "source": [
    "s3 = boto3.client('s3')"
   ]
  },
  {
   "cell_type": "code",
   "execution_count": 5,
   "metadata": {},
   "outputs": [
    {
     "name": "stdout",
     "output_type": "stream",
     "text": [
      "[{'Name': 'testlzy', 'CreationDate': datetime.datetime(2021, 12, 20, 1, 44, 6, tzinfo=tzutc())}]\n"
     ]
    }
   ],
   "source": [
    "print(s3.list_buckets()['Buckets'])"
   ]
  },
  {
   "cell_type": "code",
   "execution_count": 6,
   "metadata": {},
   "outputs": [
    {
     "name": "stdout",
     "output_type": "stream",
     "text": [
      "The new bucket (tdf-tht) has been created.\n"
     ]
    }
   ],
   "source": [
    "if 'tdf-tht' not in [n['Name'] for n in s3.list_buckets()['Buckets']]:\n",
    "    s3.create_bucket(\n",
    "                ACL='public-read',\n",
    "                Bucket='tdf-tht',\n",
    "                CreateBucketConfiguration={'LocationConstraint': 'ap-southeast-2'}\n",
    "            )\n",
    "    print('The new bucket (tdf-tht) has been created.')\n",
    "else :\n",
    "    print('The bucket (tdf-tht) exists, please proceeding further work.')"
   ]
  },
  {
   "cell_type": "code",
   "execution_count": 7,
   "metadata": {},
   "outputs": [
    {
     "name": "stdout",
     "output_type": "stream",
     "text": [
      "{'coord': {'lon': 151.2073, 'lat': -33.8679}, 'weather': [{'id': 802, 'main': 'Clouds', 'description': 'scattered clouds', 'icon': '03d'}], 'base': 'stations', 'main': {'temp': 28.18, 'feels_like': 30.88, 'temp_min': 25.76, 'temp_max': 31.14, 'pressure': 1009, 'humidity': 69}, 'visibility': 10000, 'wind': {'speed': 1.34, 'deg': 164, 'gust': 2.68}, 'clouds': {'all': 42}, 'dt': 1639964787, 'sys': {'type': 2, 'id': 2018875, 'country': 'AU', 'sunrise': 1639939224, 'sunset': 1639991087}, 'timezone': 39600, 'id': 2147714, 'name': 'Sydney', 'cod': 200}\n"
     ]
    }
   ],
   "source": [
    "import requests\n",
    "cityName = 'Sydney'\n",
    "APIKey = \n",
    "response = requests.get(f\"http://api.openweathermap.org/data/2.5/weather?q={cityName}&units=metric&appid={APIKey}\").json()\n",
    "print(response)"
   ]
  },
  {
   "cell_type": "code",
   "execution_count": 8,
   "metadata": {},
   "outputs": [],
   "source": [
    "try:\n",
    "    s3.get_object(Bucket='tdf-tht', Key='Staging/weatherDataHourly.csv')\n",
    "except :\n",
    "    head = 'weather,temp,temp_min,temp_max,pressure,humidity,visibility,datetime,sunrise,sunset'\n",
    "    s3.put_object(Body=head, Bucket='tdf-tht', Key='Staging/weatherDataHourly.csv')"
   ]
  },
  {
   "cell_type": "code",
   "execution_count": 11,
   "metadata": {},
   "outputs": [
    {
     "data": {
      "text/plain": [
       "{'weather': 'Clouds',\n",
       " 'temp': 28.18,\n",
       " 'temp_min': 25.76,\n",
       " 'temp_max': 31.14,\n",
       " 'pressure': 1009,\n",
       " 'humidity': 69,\n",
       " 'visibility': 10000,\n",
       " 'datetime': datetime.datetime(2021, 12, 20, 12, 46, 27),\n",
       " 'sunrise': datetime.datetime(2021, 12, 20, 5, 40, 24),\n",
       " 'sunset': datetime.datetime(2021, 12, 20, 20, 4, 47)}"
      ]
     },
     "execution_count": 11,
     "metadata": {},
     "output_type": "execute_result"
    }
   ],
   "source": [
    "{'weather':response['weather'][0]['main'], \n",
    "           'temp':response['main']['temp'], \n",
    "           'temp_min':response['main']['temp_min'], \n",
    "           'temp_max':response['main']['temp_max'],\n",
    "           'pressure':response['main']['pressure'], \n",
    "           'humidity':response['main']['humidity'],\n",
    "           'visibility':response['visibility'],\n",
    "           'datetime':datetime.fromtimestamp(response['dt']),\n",
    "           'sunrise':datetime.fromtimestamp(response['sys']['sunrise']), \n",
    "           'sunset':datetime.fromtimestamp(response['sys']['sunset'])}"
   ]
  },
  {
   "cell_type": "code",
   "execution_count": 15,
   "metadata": {},
   "outputs": [
    {
     "data": {
      "text/html": [
       "<div>\n",
       "<style scoped>\n",
       "    .dataframe tbody tr th:only-of-type {\n",
       "        vertical-align: middle;\n",
       "    }\n",
       "\n",
       "    .dataframe tbody tr th {\n",
       "        vertical-align: top;\n",
       "    }\n",
       "\n",
       "    .dataframe thead th {\n",
       "        text-align: right;\n",
       "    }\n",
       "</style>\n",
       "<table border=\"1\" class=\"dataframe\">\n",
       "  <thead>\n",
       "    <tr style=\"text-align: right;\">\n",
       "      <th></th>\n",
       "      <th>weather</th>\n",
       "      <th>temp</th>\n",
       "      <th>temp_min</th>\n",
       "      <th>temp_max</th>\n",
       "      <th>pressure</th>\n",
       "      <th>humidity</th>\n",
       "      <th>visibility</th>\n",
       "      <th>datetime</th>\n",
       "      <th>sunrise</th>\n",
       "      <th>sunset</th>\n",
       "    </tr>\n",
       "  </thead>\n",
       "  <tbody>\n",
       "    <tr>\n",
       "      <th>0</th>\n",
       "      <td>Clouds</td>\n",
       "      <td>28.18</td>\n",
       "      <td>25.76</td>\n",
       "      <td>31.14</td>\n",
       "      <td>1009</td>\n",
       "      <td>69</td>\n",
       "      <td>10000</td>\n",
       "      <td>2021-12-20 12:46:27</td>\n",
       "      <td>2021-12-20 05:40:24</td>\n",
       "      <td>2021-12-20 20:04:47</td>\n",
       "    </tr>\n",
       "  </tbody>\n",
       "</table>\n",
       "</div>"
      ],
      "text/plain": [
       "  weather   temp  temp_min  temp_max  pressure  humidity  visibility  \\\n",
       "0  Clouds  28.18     25.76     31.14      1009        69       10000   \n",
       "\n",
       "              datetime              sunrise               sunset  \n",
       "0  2021-12-20 12:46:27  2021-12-20 05:40:24  2021-12-20 20:04:47  "
      ]
     },
     "execution_count": 15,
     "metadata": {},
     "output_type": "execute_result"
    }
   ],
   "source": [
    "s3.download_file('tdf-tht', 'Staging/weatherDataHourly.csv','file_name')\n",
    "df = pd.read_csv('file_name')\n",
    "df"
   ]
  },
  {
   "cell_type": "code",
   "execution_count": 14,
   "metadata": {},
   "outputs": [
    {
     "data": {
      "text/plain": [
       "{'ResponseMetadata': {'RequestId': 'ABNKB49AP12NSM7V',\n",
       "  'HostId': 'lfucuXycee6NBTd9RSqeIfIIBy5E6XITrfOb+pyzEsrr0UbBalGol/X3qYp4GQ9Ne6g4zP4J1tE=',\n",
       "  'HTTPStatusCode': 200,\n",
       "  'HTTPHeaders': {'x-amz-id-2': 'lfucuXycee6NBTd9RSqeIfIIBy5E6XITrfOb+pyzEsrr0UbBalGol/X3qYp4GQ9Ne6g4zP4J1tE=',\n",
       "   'x-amz-request-id': 'ABNKB49AP12NSM7V',\n",
       "   'date': 'Mon, 20 Dec 2021 02:07:06 GMT',\n",
       "   'etag': '\"ee08d298d08f53ad68a7eeba9d8f9dd2\"',\n",
       "   'server': 'AmazonS3',\n",
       "   'content-length': '0'},\n",
       "  'RetryAttempts': 0},\n",
       " 'ETag': '\"ee08d298d08f53ad68a7eeba9d8f9dd2\"'}"
      ]
     },
     "execution_count": 14,
     "metadata": {},
     "output_type": "execute_result"
    }
   ],
   "source": [
    "s3.download_file('tdf-tht', 'Staging/weatherDataHourly.csv','file_name')\n",
    "df = pd.read_csv('file_name')\n",
    "new_row = {'weather':response['weather'][0]['main'], \n",
    "           'temp':response['main']['temp'], \n",
    "           'temp_min':response['main']['temp_min'], \n",
    "           'temp_max':response['main']['temp_max'],\n",
    "           'pressure':response['main']['pressure'], \n",
    "           'humidity':response['main']['humidity'],\n",
    "           'visibility':response['visibility'],\n",
    "           'datetime':datetime.fromtimestamp(response['dt']),\n",
    "           'sunrise':datetime.fromtimestamp(response['sys']['sunrise']), \n",
    "           'sunset':datetime.fromtimestamp(response['sys']['sunset'])}\n",
    "df = df.append(new_row, ignore_index=True)\n",
    "bytes_to_write = df.to_csv(None, index=False).encode()\n",
    "s3.put_object(Body=bytes_to_write, Bucket='tdf-tht', Key='Staging/weatherDataHourly.csv')"
   ]
  }
 ],
 "metadata": {
  "interpreter": {
   "hash": "bcc3b930c002112962cb410215fc54f22007e3edea568e762cfaa4e9a88277cf"
  },
  "kernelspec": {
   "display_name": "Python 3.7.6 64-bit ('base': conda)",
   "language": "python",
   "name": "python3"
  },
  "language_info": {
   "codemirror_mode": {
    "name": "ipython",
    "version": 3
   },
   "file_extension": ".py",
   "mimetype": "text/x-python",
   "name": "python",
   "nbconvert_exporter": "python",
   "pygments_lexer": "ipython3",
   "version": "3.7.6"
  },
  "orig_nbformat": 4
 },
 "nbformat": 4,
 "nbformat_minor": 2
}
